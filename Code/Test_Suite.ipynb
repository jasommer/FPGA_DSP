{
 "cells": [
  {
   "cell_type": "markdown",
   "metadata": {
    "slideshow": {
     "slide_type": "notes"
    }
   },
   "source": [
    "# DSP Test Suite\n",
    "**Note:** This test suite should be executed in the xsim folder of the Vivado project so that no absolute file paths have to be specified. The path to the xsim folder looks something like this: DSPE2_test\\DSPE2_test.sim\\sim_1\\behav\\xsim\n",
    "### Set up dependencies"
   ]
  },
  {
   "cell_type": "code",
   "execution_count": 299,
   "metadata": {},
   "outputs": [],
   "source": [
    "from bitstring import BitArray, BitStream  # for bit manipulation and parsing\n",
    "import numpy as np # for array arithmetic\n",
    "import tkinter  # for TCL scripting\n",
    "import pandas as pd # for data frames\n",
    "import matplotlib.pyplot as plt # for plotting\n",
    "import subprocess # os stuff\n",
    "import os"
   ]
  },
  {
   "cell_type": "markdown",
   "metadata": {},
   "source": [
    "### Generate test vectors for the VHDL test bench\n",
    "* define test data as bit strings\n",
    "* put test data in dataframe\n",
    "* write dataframe to txt\n",
    "* convert test data to dataframe with signed integers"
   ]
  },
  {
   "cell_type": "code",
   "execution_count": 294,
   "metadata": {},
   "outputs": [
    {
     "data": {
      "text/html": [
       "<div>\n",
       "<style scoped>\n",
       "    .dataframe tbody tr th:only-of-type {\n",
       "        vertical-align: middle;\n",
       "    }\n",
       "\n",
       "    .dataframe tbody tr th {\n",
       "        vertical-align: top;\n",
       "    }\n",
       "\n",
       "    .dataframe thead th {\n",
       "        text-align: right;\n",
       "    }\n",
       "</style>\n",
       "<table border=\"1\" class=\"dataframe\">\n",
       "  <thead>\n",
       "    <tr style=\"text-align: right;\">\n",
       "      <th></th>\n",
       "      <th>a1</th>\n",
       "      <th>a2</th>\n",
       "      <th>w1</th>\n",
       "      <th>w2</th>\n",
       "    </tr>\n",
       "  </thead>\n",
       "  <tbody>\n",
       "    <tr>\n",
       "      <th>0</th>\n",
       "      <td>10</td>\n",
       "      <td>5</td>\n",
       "      <td>1</td>\n",
       "      <td>2</td>\n",
       "    </tr>\n",
       "    <tr>\n",
       "      <th>1</th>\n",
       "      <td>6</td>\n",
       "      <td>7</td>\n",
       "      <td>3</td>\n",
       "      <td>0</td>\n",
       "    </tr>\n",
       "    <tr>\n",
       "      <th>2</th>\n",
       "      <td>9</td>\n",
       "      <td>9</td>\n",
       "      <td>-7</td>\n",
       "      <td>-3</td>\n",
       "    </tr>\n",
       "  </tbody>\n",
       "</table>\n",
       "</div>"
      ],
      "text/plain": [
       "   a1  a2  w1  w2\n",
       "0  10   5   1   2\n",
       "1   6   7   3   0\n",
       "2   9   9  -7  -3"
      ]
     },
     "metadata": {},
     "output_type": "display_data"
    }
   ],
   "source": [
    "# define test data vectors\n",
    "test_data = {'a1': ['1010', '0110', '1001'], \n",
    "             'a2': ['0101', '0111', '1001'],\n",
    "             'w1': ['0001', '0011', '1001'], \n",
    "             'w2': ['0010', '0000', '1101'],}\n",
    "\n",
    "# generate test data frame and save as txt\n",
    "test_raw_df = pd.DataFrame(data=test_data)\n",
    "np.savetxt(r'test_vectors.txt', test_raw_df.values, fmt='%s')\n",
    "\n",
    "# sign extend unsigned data with 0, since all data is expected to be sigend from this point on\n",
    "test_sign_ext_df = test_raw_df.apply(lambda x: '0'+x if (x.name == 'a1' or x.name == 'a2') else x)\n",
    "# str to int conversion\n",
    "test_df = test_sign_ext_df.applymap(lambda x: BitArray(bin=x).int)\n",
    "display(test_df)"
   ]
  },
  {
   "cell_type": "markdown",
   "metadata": {},
   "source": [
    "### Run simulation, then read in output results\n",
    "* run the simulation\n",
    "* get the results from txt file\n",
    "* interpret strings in txt file as hexadecimal signed integers\n",
    "* shove everything into dataframe"
   ]
  },
  {
   "cell_type": "code",
   "execution_count": 286,
   "metadata": {},
   "outputs": [],
   "source": [
    "# trying to auto-run vivado simulation by calling some scripts. Does not work right now, you need to run simulation manually\n",
    "# run simulation\n",
    "#callProcess = subprocess.Popen('E:\\Programme\\Vivado\\2019.2\\bin\\vivado.bat')\n",
    "#print(callProcess)"
   ]
  },
  {
   "cell_type": "code",
   "execution_count": 295,
   "metadata": {},
   "outputs": [
    {
     "data": {
      "text/html": [
       "<div>\n",
       "<style scoped>\n",
       "    .dataframe tbody tr th:only-of-type {\n",
       "        vertical-align: middle;\n",
       "    }\n",
       "\n",
       "    .dataframe tbody tr th {\n",
       "        vertical-align: top;\n",
       "    }\n",
       "\n",
       "    .dataframe thead th {\n",
       "        text-align: right;\n",
       "    }\n",
       "</style>\n",
       "<table border=\"1\" class=\"dataframe\">\n",
       "  <thead>\n",
       "    <tr style=\"text-align: right;\">\n",
       "      <th></th>\n",
       "      <th>0</th>\n",
       "      <th>1</th>\n",
       "      <th>2</th>\n",
       "      <th>3</th>\n",
       "    </tr>\n",
       "  </thead>\n",
       "  <tbody>\n",
       "    <tr>\n",
       "      <th>0</th>\n",
       "      <td>10</td>\n",
       "      <td>5</td>\n",
       "      <td>20</td>\n",
       "      <td>10</td>\n",
       "    </tr>\n",
       "    <tr>\n",
       "      <th>1</th>\n",
       "      <td>18</td>\n",
       "      <td>21</td>\n",
       "      <td>0</td>\n",
       "      <td>0</td>\n",
       "    </tr>\n",
       "    <tr>\n",
       "      <th>2</th>\n",
       "      <td>-63</td>\n",
       "      <td>-64</td>\n",
       "      <td>-28</td>\n",
       "      <td>-28</td>\n",
       "    </tr>\n",
       "  </tbody>\n",
       "</table>\n",
       "</div>"
      ],
      "text/plain": [
       "    0   1   2   3\n",
       "0  10   5  20  10\n",
       "1  18  21   0   0\n",
       "2 -63 -64 -28 -28"
      ]
     },
     "metadata": {},
     "output_type": "display_data"
    }
   ],
   "source": [
    "# read in results from testbench\n",
    "result_df_raw = pd.read_csv(\"output_results.txt\", header=None, delim_whitespace=True, dtype=object)\n",
    "\n",
    "# str to signed int conversion\n",
    "result_df = pd.DataFrame()\n",
    "result_df = result_df_raw.applymap(lambda x: BitArray(hex=x).int)\n",
    "display(result_df)"
   ]
  },
  {
   "cell_type": "markdown",
   "metadata": {},
   "source": [
    "### Generate Ground Truth and check if it matches with the output results"
   ]
  },
  {
   "cell_type": "code",
   "execution_count": 296,
   "metadata": {},
   "outputs": [
    {
     "name": "stdout",
     "output_type": "stream",
     "text": [
      "\u001b[31mResult does not match ground truth!\u001b[0m\n"
     ]
    },
    {
     "data": {
      "text/html": [
       "<div>\n",
       "<style scoped>\n",
       "    .dataframe tbody tr th:only-of-type {\n",
       "        vertical-align: middle;\n",
       "    }\n",
       "\n",
       "    .dataframe tbody tr th {\n",
       "        vertical-align: top;\n",
       "    }\n",
       "\n",
       "    .dataframe thead th {\n",
       "        text-align: right;\n",
       "    }\n",
       "</style>\n",
       "<table border=\"1\" class=\"dataframe\">\n",
       "  <thead>\n",
       "    <tr style=\"text-align: right;\">\n",
       "      <th></th>\n",
       "      <th>a1w1</th>\n",
       "      <th>a2w1</th>\n",
       "      <th>a1w2</th>\n",
       "      <th>a2w2</th>\n",
       "    </tr>\n",
       "  </thead>\n",
       "  <tbody>\n",
       "    <tr>\n",
       "      <th>0</th>\n",
       "      <td>10</td>\n",
       "      <td>5</td>\n",
       "      <td>20</td>\n",
       "      <td>10</td>\n",
       "    </tr>\n",
       "    <tr>\n",
       "      <th>1</th>\n",
       "      <td>18</td>\n",
       "      <td>21</td>\n",
       "      <td>0</td>\n",
       "      <td>0</td>\n",
       "    </tr>\n",
       "    <tr>\n",
       "      <th>2</th>\n",
       "      <td>-63</td>\n",
       "      <td>-63</td>\n",
       "      <td>-27</td>\n",
       "      <td>-27</td>\n",
       "    </tr>\n",
       "  </tbody>\n",
       "</table>\n",
       "</div>"
      ],
      "text/plain": [
       "   a1w1  a2w1  a1w2  a2w2\n",
       "0    10     5    20    10\n",
       "1    18    21     0     0\n",
       "2   -63   -63   -27   -27"
      ]
     },
     "metadata": {},
     "output_type": "display_data"
    }
   ],
   "source": [
    "cols = ['a1w1','a2w1','a1w2','a2w2']\n",
    "ground_truth_df = pd.DataFrame(columns=cols)\n",
    "\n",
    "ground_truth_df[\"a1w1\"] = test_df['a1'] * test_df['w1']\n",
    "ground_truth_df[\"a2w1\"] = test_df['a2'] * test_df['w1'] \n",
    "ground_truth_df[\"a1w2\"] = test_df['a1'] * test_df['w2'] \n",
    "ground_truth_df[\"a2w2\"] = test_df['a2'] * test_df['w2'] \n",
    "ground_truth_df\n",
    "\n",
    "if(np.array_equal(ground_truth_df.values, result_df.values)):\n",
    "    print(\"Result matches ground truth!\")\n",
    "else:\n",
    "    print(\"\\x1b[31mResult does not match ground truth!\\x1b[0m\")\n",
    "    display(ground_truth_df)\n",
    "    "
   ]
  },
  {
   "cell_type": "markdown",
   "metadata": {},
   "source": [
    "## TCL Test Stuff\n",
    "Not working right now\n"
   ]
  },
  {
   "cell_type": "code",
   "execution_count": 2,
   "metadata": {},
   "outputs": [
    {
     "name": "stdout",
     "output_type": "stream",
     "text": [
      "TCL=> test\n"
     ]
    }
   ],
   "source": [
    "root = tkinter.Tcl()\n",
    "tcl_script = \"\"\"\n",
    "# tcl script for redirecting 'puts' stream to python \n",
    "rename puts original_puts \n",
    "proc puts {args} {\n",
    "    if {[llength $args] == 1} {\n",
    "        return \"TCL=> [lindex $args 0]\"\n",
    "    } else {\n",
    "        eval original_puts $args\n",
    "    }\n",
    "}\n",
    "\"\"\"\n",
    "\n",
    "\n",
    "# call the tkinter tcl interpreter\n",
    "root.tk.call('eval', tcl_script)\n",
    "out = root.tk.eval('puts \"test\"')\n",
    "print(out)\n",
    "root.mainloop()"
   ]
  },
  {
   "cell_type": "code",
   "execution_count": null,
   "metadata": {},
   "outputs": [],
   "source": []
  },
  {
   "cell_type": "code",
   "execution_count": null,
   "metadata": {},
   "outputs": [],
   "source": []
  }
 ],
 "metadata": {
  "kernelspec": {
   "display_name": "Python 3",
   "language": "python",
   "name": "python3"
  },
  "language_info": {
   "codemirror_mode": {
    "name": "ipython",
    "version": 3
   },
   "file_extension": ".py",
   "mimetype": "text/x-python",
   "name": "python",
   "nbconvert_exporter": "python",
   "pygments_lexer": "ipython3",
   "version": "3.8.3"
  }
 },
 "nbformat": 4,
 "nbformat_minor": 4
}
